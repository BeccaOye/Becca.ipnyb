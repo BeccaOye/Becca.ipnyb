{
 "cells": [
  {
   "cell_type": "code",
   "execution_count": 136,
   "metadata": {},
   "outputs": [],
   "source": [
    "import requests\n",
    "from bs4 import BeautifulSoup\n",
    "import csv\n",
    "import pandas as pd"
   ]
  },
  {
   "cell_type": "code",
   "execution_count": null,
   "metadata": {},
   "outputs": [],
   "source": [
    "url = 'https://ng.indeed.com/jobs?q=data%20analyst&l=Nigeria&sort=date&vjk=959c90a6c043b43c'\n",
    "page = requests.get(url)\n",
    "soup = BeautifulSoup(page.content, 'html.parser')\n",
    "soup"
   ]
  },
  {
   "cell_type": "code",
   "execution_count": 91,
   "metadata": {},
   "outputs": [
    {
     "data": {
      "text/plain": [
       "['Mid/Senior Country Financial Analyst (100% remote)',\n",
       " 'Data Analyst – Nigeria IHP – Kebbi - Arewa',\n",
       " 'Data Analyst – Nigeria IHP – Kebbi - Arewa',\n",
       " 'Inventory Data Analyst Recruitment at TradeDepot',\n",
       " 'Strategy and Insights Manager- West Africa',\n",
       " 'Data Analyst Recruitment at High Performance Consulting',\n",
       " 'System Analyst Recruitment at Pajuno Development Company',\n",
       " 'Graduate Trainee Marketing Analyst Recruitment at Ladlas Pri...',\n",
       " 'Senior Financial Planning and Analysis',\n",
       " 'Project Analyst Job at MTN Nigeria',\n",
       " 'Tech Talent Recruiters: Lagos',\n",
       " 'UI / UX Designer Recruitment at Code for Africa',\n",
       " 'Ongoing Recruitment at La Fayette Microfinance Bank Limited',\n",
       " 'Policy Associate',\n",
       " 'Reconciliation Analyst']"
      ]
     },
     "execution_count": 91,
     "metadata": {},
     "output_type": "execute_result"
    }
   ],
   "source": [
    "# Create top_items as empty list\n",
    "title = []\n",
    "\n",
    "# Extract and store in top_items according to instructions on the left\n",
    "job_titles = soup.select('h2 > span')\n",
    "for job in job_titles:\n",
    "    title.append(job.text)\n",
    "\n",
    "title"
   ]
  },
  {
   "cell_type": "code",
   "execution_count": 129,
   "metadata": {},
   "outputs": [
    {
     "data": {
      "text/plain": [
       "15"
      ]
     },
     "execution_count": 129,
     "metadata": {},
     "output_type": "execute_result"
    }
   ],
   "source": [
    "# Create top_items as empty list\n",
    "company = []\n",
    "\n",
    "# Extract and store in top_items according to instructions on the left\n",
    "job_company = soup.select('div.companyInfo > span.companyName')\n",
    "for comp in job_company:\n",
    "    company.append(comp.text)\n",
    "\n",
    "company"
   ]
  },
  {
   "cell_type": "code",
   "execution_count": 132,
   "metadata": {},
   "outputs": [
    {
     "data": {
      "text/plain": [
       "['TodayPostedToday',\n",
       " '1 day agoPosted1 day ',\n",
       " '1 day agoPosted1 day ',\n",
       " '1 day agoPosted1 day ',\n",
       " '1 day agoPosted1 day ',\n",
       " '1 day agoPosted1 day ',\n",
       " '1 day agoPosted1 day ',\n",
       " '1 day agoPosted1 day ',\n",
       " '1 day agoPosted1 day ',\n",
       " '2 days agoPosted2 days ',\n",
       " '2 days agoPosted2 days ',\n",
       " '2 days agoPosted2 days ',\n",
       " '2 days agoPosted2 days ',\n",
       " '2 days agoPosted2 days ',\n",
       " '3 days agoPosted3 days ']"
      ]
     },
     "execution_count": 132,
     "metadata": {},
     "output_type": "execute_result"
    }
   ],
   "source": [
    "date_posted = []\n",
    "\n",
    "# Extract and store in top_items according to instructions on the left\n",
    "dates = soup.select('span.date')\n",
    "for date in dates:\n",
    "    date_posted.append(date.text.strip('Posted').strip('ago'))\n",
    "\n",
    "date_posted"
   ]
  },
  {
   "cell_type": "code",
   "execution_count": 133,
   "metadata": {},
   "outputs": [],
   "source": [
    "\n",
    "url = ['https://ng.indeed.com/jobs?q=data%20analyst&l=Nigeria&sort=date&vjk=959c90a6c043b43c', \n",
    "    'https://ng.indeed.com/jobs?q=data%20analyst&l=Nigeria&sort=date&vjk=959c90a6c043b43c',\n",
    "    'https://ng.indeed.com/jobs?q=data%20analyst&l=Nigeria&sort=date&start=20&vjk=01af6e553ce6c2d7',\n",
    "    'https://ng.indeed.com/jobs?q=data%20analyst&l=Nigeria&sort=date&start=30&vjk=e9729db5b22ec679',\n",
    "    'https://ng.indeed.com/jobs?q=data%20analyst&l=Nigeria&sort=date&start=40&vjk=3b238a694fc99046',\n",
    "    'https://ng.indeed.com/jobs?q=data%20analyst&l=Nigeria&sort=date&start=50&vjk=ac5f2a42db54d955',\n",
    "    'https://ng.indeed.com/jobs?q=data%20analyst&l=Nigeria&sort=date&start=60&vjk=fb026b80f41fb9ef'\n",
    "]\n",
    "\n",
    "for i in range(len(url)):\n",
    "    page = requests.get(url[i])\n",
    "    soup = BeautifulSoup(page.content, 'html.parser')\n",
    "\n",
    "    job_titles = soup.select('h2 > span')\n",
    "    for job in job_titles:\n",
    "        title.append(job.text)\n",
    "\n",
    "    job_company = soup.select('div.companyInfo > span.companyName')\n",
    "    for comp in job_company:\n",
    "        company.append(comp.text)\n",
    "\n",
    "    dates = soup.select('span.date')\n",
    "    for date in dates:\n",
    "        date_posted.append(date.text.strip('Posted').strip('ago'))"
   ]
  },
  {
   "cell_type": "code",
   "execution_count": 147,
   "metadata": {},
   "outputs": [
    {
     "name": "stdout",
     "output_type": "stream",
     "text": [
      "120 119 120\n"
     ]
    }
   ],
   "source": [
    "print(len(title), len(company), len(date_posted))"
   ]
  },
  {
   "cell_type": "code",
   "execution_count": 155,
   "metadata": {},
   "outputs": [
    {
     "data": {
      "text/html": [
       "<div>\n",
       "<style scoped>\n",
       "    .dataframe tbody tr th:only-of-type {\n",
       "        vertical-align: middle;\n",
       "    }\n",
       "\n",
       "    .dataframe tbody tr th {\n",
       "        vertical-align: top;\n",
       "    }\n",
       "\n",
       "    .dataframe thead th {\n",
       "        text-align: right;\n",
       "    }\n",
       "</style>\n",
       "<table border=\"1\" class=\"dataframe\">\n",
       "  <thead>\n",
       "    <tr style=\"text-align: right;\">\n",
       "      <th></th>\n",
       "      <th>job_title</th>\n",
       "      <th>company</th>\n",
       "      <th>date_posted</th>\n",
       "    </tr>\n",
       "  </thead>\n",
       "  <tbody>\n",
       "    <tr>\n",
       "      <th>0</th>\n",
       "      <td>Mid/Senior Country Financial Analyst (100% rem...</td>\n",
       "      <td>Grafton Recruitment Sp. z o.o.Grafton Recruitm...</td>\n",
       "      <td>TodayPostedToday</td>\n",
       "    </tr>\n",
       "    <tr>\n",
       "      <th>1</th>\n",
       "      <td>Data Analyst – Nigeria IHP – Kebbi - Arewa</td>\n",
       "      <td>Palladium Group, Inc.Palladium Group, Inc.Pall...</td>\n",
       "      <td>1 day agoPosted1 day</td>\n",
       "    </tr>\n",
       "    <tr>\n",
       "      <th>2</th>\n",
       "      <td>Data Analyst – Nigeria IHP – Kebbi - Arewa</td>\n",
       "      <td>The Palladium Group (HQ)The Palladium Group (H...</td>\n",
       "      <td>1 day agoPosted1 day</td>\n",
       "    </tr>\n",
       "    <tr>\n",
       "      <th>3</th>\n",
       "      <td>Inventory Data Analyst Recruitment at TradeDepot</td>\n",
       "      <td>TradeDepotTradeDepotTradeDepotTradeDepotTradeD...</td>\n",
       "      <td>1 day agoPosted1 day</td>\n",
       "    </tr>\n",
       "    <tr>\n",
       "      <th>4</th>\n",
       "      <td>Strategy and Insights Manager- West Africa</td>\n",
       "      <td>TikTokTikTokTikTokTikTokTikTokTikTokTikTokTikT...</td>\n",
       "      <td>1 day agoPosted1 day</td>\n",
       "    </tr>\n",
       "    <tr>\n",
       "      <th>...</th>\n",
       "      <td>...</td>\n",
       "      <td>...</td>\n",
       "      <td>...</td>\n",
       "    </tr>\n",
       "    <tr>\n",
       "      <th>115</th>\n",
       "      <td>Engineering Manager, Data Infrastructure</td>\n",
       "      <td>Jumia Group</td>\n",
       "      <td>30+ days</td>\n",
       "    </tr>\n",
       "    <tr>\n",
       "      <th>116</th>\n",
       "      <td>Senior Commercial Analyst</td>\n",
       "      <td>Digicrown</td>\n",
       "      <td>30+ days</td>\n",
       "    </tr>\n",
       "    <tr>\n",
       "      <th>117</th>\n",
       "      <td>Excel Data Analyst</td>\n",
       "      <td>EDUCONSULTS BOLD SERVICES</td>\n",
       "      <td>30+ days</td>\n",
       "    </tr>\n",
       "    <tr>\n",
       "      <th>118</th>\n",
       "      <td>Computer Analyst</td>\n",
       "      <td>InstaFxNg</td>\n",
       "      <td>30+ days</td>\n",
       "    </tr>\n",
       "    <tr>\n",
       "      <th>119</th>\n",
       "      <td>Forex Technical Analyst</td>\n",
       "      <td>None</td>\n",
       "      <td>30+ days</td>\n",
       "    </tr>\n",
       "  </tbody>\n",
       "</table>\n",
       "<p>120 rows × 3 columns</p>\n",
       "</div>"
      ],
      "text/plain": [
       "                                             job_title  \\\n",
       "0    Mid/Senior Country Financial Analyst (100% rem...   \n",
       "1           Data Analyst – Nigeria IHP – Kebbi - Arewa   \n",
       "2           Data Analyst – Nigeria IHP – Kebbi - Arewa   \n",
       "3     Inventory Data Analyst Recruitment at TradeDepot   \n",
       "4           Strategy and Insights Manager- West Africa   \n",
       "..                                                 ...   \n",
       "115           Engineering Manager, Data Infrastructure   \n",
       "116                          Senior Commercial Analyst   \n",
       "117                                 Excel Data Analyst   \n",
       "118                                   Computer Analyst   \n",
       "119                            Forex Technical Analyst   \n",
       "\n",
       "                                               company            date_posted  \n",
       "0    Grafton Recruitment Sp. z o.o.Grafton Recruitm...       TodayPostedToday  \n",
       "1    Palladium Group, Inc.Palladium Group, Inc.Pall...  1 day agoPosted1 day   \n",
       "2    The Palladium Group (HQ)The Palladium Group (H...  1 day agoPosted1 day   \n",
       "3    TradeDepotTradeDepotTradeDepotTradeDepotTradeD...  1 day agoPosted1 day   \n",
       "4    TikTokTikTokTikTokTikTokTikTokTikTokTikTokTikT...  1 day agoPosted1 day   \n",
       "..                                                 ...                    ...  \n",
       "115                                        Jumia Group              30+ days   \n",
       "116                                          Digicrown              30+ days   \n",
       "117                          EDUCONSULTS BOLD SERVICES              30+ days   \n",
       "118                                          InstaFxNg              30+ days   \n",
       "119                                               None              30+ days   \n",
       "\n",
       "[120 rows x 3 columns]"
      ]
     },
     "execution_count": 155,
     "metadata": {},
     "output_type": "execute_result"
    }
   ],
   "source": [
    "job_data = pd.DataFrame.from_dict(job_dict, orient='index')\n",
    "job_data = job_data.T\n",
    "job_data"
   ]
  },
  {
   "cell_type": "code",
   "execution_count": 156,
   "metadata": {},
   "outputs": [],
   "source": [
    "job_data.to_csv('data_analyst_jobs')"
   ]
  }
 ],
 "metadata": {
  "interpreter": {
   "hash": "07efdcd4b820c98a756949507a4d29d7862823915ec7477944641bea022f4f62"
  },
  "kernelspec": {
   "display_name": "Python 3.9.7 ('base')",
   "language": "python",
   "name": "python3"
  },
  "language_info": {
   "codemirror_mode": {
    "name": "ipython",
    "version": 3
   },
   "file_extension": ".py",
   "mimetype": "text/x-python",
   "name": "python",
   "nbconvert_exporter": "python",
   "pygments_lexer": "ipython3",
   "version": "3.9.7"
  },
  "orig_nbformat": 4
 },
 "nbformat": 4,
 "nbformat_minor": 2
}
